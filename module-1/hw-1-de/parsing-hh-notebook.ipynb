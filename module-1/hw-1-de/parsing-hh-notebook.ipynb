{
 "cells": [
  {
   "cell_type": "code",
   "execution_count": 21,
   "metadata": {
    "colab": {},
    "colab_type": "code",
    "id": "0LARDvzqTHJk",
    "pycharm": {
     "is_executing": false
    }
   },
   "outputs": [],
   "source": [
    "import requests\n",
    "import pandas as pd\n",
    "import json\n",
    "import math\n",
    "pd.set_option('display.max_columns', 100)"
   ]
  },
  {
   "cell_type": "code",
   "execution_count": 44,
   "metadata": {
    "colab": {},
    "colab_type": "code",
    "id": "7YY5Xd2PTHJ3",
    "pycharm": {
     "is_executing": false
    }
   },
   "outputs": [],
   "source": [
    "r = requests.get('https://api.hh.ru/vacancies', params={'text':'Data Engineer', 'area':'1', 'per_page':100})\n",
    "per_page = r.json()['per_page']\n",
    "pages = r.json()['pages']"
   ]
  },
  {
   "cell_type": "code",
   "execution_count": 45,
   "metadata": {
    "colab": {},
    "colab_type": "code",
    "id": "2EiFLs94THJ8",
    "pycharm": {
     "is_executing": false
    }
   },
   "outputs": [],
   "source": [
    "vacs = []\n",
    "empls = set()\n",
    "for p in range(pages):    \n",
    "    r = requests.get('https://api.hh.ru/vacancies', params={'page': p, 'per_page':per_page, 'text':'Data Engineer', 'area':'1'}).json()['items']\n",
    "    for i in range(len(r)): \n",
    "        empls.add(r[i]['employer']['url'])\n",
    "        vacs.append(r[i]['url'])"
   ]
  },
  {
   "cell_type": "code",
   "execution_count": 46,
   "metadata": {
    "colab": {},
    "colab_type": "code",
    "id": "OiXPRYdeTHKB",
    "pycharm": {
     "is_executing": false
    }
   },
   "outputs": [],
   "source": [
    "det_empl = []\n",
    "for empl in empls:\n",
    "    det_empl.append(requests.get(empl).json())\n",
    "    #if len(det_empl) == 10:\n",
    "    #    break\n",
    "\n",
    "empl_df = pd.DataFrame(det_empl)[['id', 'name', 'industries']]"
   ]
  },
  {
   "cell_type": "code",
   "execution_count": 47,
   "metadata": {
    "colab": {},
    "colab_type": "code",
    "id": "4Gww-VZoTHKF",
    "pycharm": {
     "is_executing": false
    }
   },
   "outputs": [],
   "source": [
    "industries = []\n",
    "for i in range(len(empl_df.id)):        \n",
    "    for j in empl_df.industries[i]:   \n",
    "        industries.append([empl_df.id[i], j['id'], j['name']])\n",
    "         \n",
    "ind_df = pd.DataFrame(industries, columns=['empl_id', 'id', 'name'])\n",
    "empl_df.drop('industries', axis=1, inplace=True)"
   ]
  },
  {
   "cell_type": "code",
   "execution_count": 6,
   "metadata": {
    "colab": {},
    "colab_type": "code",
    "id": "iZy0XdjiTHKI",
    "pycharm": {
     "is_executing": false
    }
   },
   "outputs": [
    {
     "name": "stdout",
     "output_type": "stream",
     "text": [
      "50 of 447\n",
      "100 of 447\n",
      "150 of 447\n",
      "200 of 447\n",
      "250 of 447\n",
      "300 of 447\n",
      "350 of 447\n",
      "400 of 447\n"
     ]
    }
   ],
   "source": [
    "det_vac = []\n",
    "for vac in vacs:\n",
    "    det_vac.append(requests.get(vac).json())\n",
    "    if len(det_vac) % 50 == 0:\n",
    "        print(f'{len(det_vac)} of {len(vacs)}')\n",
    "\n",
    "vac_df = pd.DataFrame(det_vac)[['id', 'name', 'alternate_url', 'description', 'employer', 'employment', 'experience', 'key_skills', 'salary', 'schedule', 'specializations']]"
   ]
  },
  {
   "cell_type": "code",
   "execution_count": 7,
   "metadata": {
    "colab": {},
    "colab_type": "code",
    "id": "4P-99Ke2U2YK",
    "pycharm": {
     "is_executing": false
    }
   },
   "outputs": [],
   "source": [
    "skills = []\n",
    "for i in range(len(vac_df.id)):        \n",
    "    for j in vac_df.key_skills[i]:        \n",
    "        skills.append([vac_df.id[i], j['name']])\n",
    "         \n",
    "skill_df = pd.DataFrame(skills, columns=['vac_id', 'skill_name'])\n",
    "vac_df.drop('key_skills', axis=1, inplace=True)"
   ]
  },
  {
   "cell_type": "code",
   "execution_count": 8,
   "metadata": {
    "colab": {},
    "colab_type": "code",
    "id": "ZsZ6DdFvTHKM",
    "pycharm": {
     "is_executing": false
    }
   },
   "outputs": [],
   "source": [
    "vac_df = vac_df.join(pd.read_json(vac_df.salary.to_json()).T)\n",
    "vac_df.drop('salary', axis=1, inplace=True)\n",
    "vac_df = vac_df.join(pd.read_json(vac_df.employer.to_json()).T['id'], rsuffix='_empl')\n",
    "vac_df.drop('employer', axis=1, inplace=True)\n",
    "vac_df.rename(columns={'id_empl':'empl_id'}, inplace=True)"
   ]
  },
  {
   "cell_type": "code",
   "execution_count": 9,
   "metadata": {
    "colab": {},
    "colab_type": "code",
    "id": "E-jYB2grWauL",
    "pycharm": {
     "is_executing": false
    }
   },
   "outputs": [],
   "source": [
    "def calc_salary(from_, to_, gross, curr):  \n",
    "  if from_ == None:\n",
    "    from_ = float('NaN')\n",
    "  if to_ == None:\n",
    "    to_ = float('NaN')\n",
    "  if math.isnan(from_) and math.isnan(to_) or gross == None:\n",
    "    res = float('NaN')\n",
    "  if math.isnan(from_):\n",
    "    if gross == False:\n",
    "      res = to_ / 0.87\n",
    "    else:\n",
    "      res = to_\n",
    "  elif math.isnan(to_):\n",
    "    if gross == False:\n",
    "      res = from_ / 0.87\n",
    "    else:\n",
    "      res = from_ \n",
    "  else:\n",
    "    res = (from_ + to_) / 2\n",
    "    if gross == False:\n",
    "      res /= 0.87\n",
    "  if curr == 'USD' :\n",
    "    res *= 64.3\n",
    "  elif curr == 'EUR':\n",
    "    res *= 70.85\n",
    "\n",
    "  return res\n",
    "  \n",
    "vac_df['salary'] = vac_df.apply(lambda x: calc_salary(x['from'], x['to'], x['gross'], x['currency']), axis=1)\n",
    "vac_df.drop(['from', 'to', 'gross', 'currency'], axis=1, inplace=True)"
   ]
  },
  {
   "cell_type": "code",
   "execution_count": 10,
   "metadata": {
    "colab": {},
    "colab_type": "code",
    "id": "wqdOiCAKTHKP",
    "pycharm": {
     "is_executing": false,
     "name": "#%%\n"
    }
   },
   "outputs": [],
   "source": [
    "empl_df.to_csv('empl.csv', header=True, index=False)\n",
    "ind_df.to_csv('ind.csv', header=True, index=False)\n",
    "skill_df.to_csv('skills.csv', header=True, index=False)\n",
    "vac_df[['id', 'name', 'salary', 'empl_id']].to_csv('vac.csv', header=True, index=False)"
   ]
  },
  {
   "cell_type": "markdown",
   "metadata": {
    "pycharm": {
     "name": "#%% md\n"
    }
   },
   "source": [
    "1. Рынок DE: Количество вакансий, отрасли компаний, размер компаний"
   ]
  },
  {
   "cell_type": "code",
   "execution_count": 48,
   "metadata": {
    "collapsed": false,
    "jupyter": {
     "outputs_hidden": false
    },
    "pycharm": {
     "is_executing": false,
     "name": "#%%\n"
    }
   },
   "outputs": [
    {
     "name": "stdout",
     "output_type": "stream",
     "text": [
      "Количество вакансий: 447\n",
      "Отраслей компаний: 116\n",
      "число компаний: 218\n"
     ]
    }
   ],
   "source": [
    "print(\"Количество вакансий: \" +   str(len(vac_df)))\n",
    "print(\"Отраслей компаний: \" + str(len(ind_df.groupby(['name']))))\n",
    "print(\"Число компаний: \" + str(len(empl_df)))"
   ]
  },
  {
   "cell_type": "code",
   "execution_count": 17,
   "metadata": {},
   "outputs": [
    {
     "name": "stdout",
     "output_type": "stream",
     "text": [
      "          id                              name\n",
      "0       2180                              Ozon\n",
      "1       3529                          Сбербанк\n",
      "2      11680                            ДОМ.РФ\n",
      "3       1846                    Brainpower CIS\n",
      "4       1304                            Luxoft\n",
      "..       ...                               ...\n",
      "213     3095                  Инфосистемы Джет\n",
      "214     1776                McKinsey & Company\n",
      "215  2651877                               CTI\n",
      "216  1038826  Business and Technology Services\n",
      "217     4496                          МТС Банк\n",
      "\n",
      "[218 rows x 2 columns]\n"
     ]
    }
   ],
   "source": [
    "print(empl_df)"
   ]
  },
  {
   "cell_type": "markdown",
   "metadata": {},
   "source": [
    "2. Требования: Популярные языки, технологии, фреймворки"
   ]
  },
  {
   "cell_type": "code",
   "execution_count": 78,
   "metadata": {},
   "outputs": [
    {
     "data": {
      "text/html": [
       "<div>\n",
       "<style scoped>\n",
       "    .dataframe tbody tr th:only-of-type {\n",
       "        vertical-align: middle;\n",
       "    }\n",
       "\n",
       "    .dataframe tbody tr th {\n",
       "        vertical-align: top;\n",
       "    }\n",
       "\n",
       "    .dataframe thead th {\n",
       "        text-align: right;\n",
       "    }\n",
       "</style>\n",
       "<table border=\"1\" class=\"dataframe\">\n",
       "  <thead>\n",
       "    <tr style=\"text-align: right;\">\n",
       "      <th></th>\n",
       "      <th>skill_name</th>\n",
       "      <th>counts</th>\n",
       "    </tr>\n",
       "  </thead>\n",
       "  <tbody>\n",
       "    <tr>\n",
       "      <td>357</td>\n",
       "      <td>Python</td>\n",
       "      <td>132</td>\n",
       "    </tr>\n",
       "    <tr>\n",
       "      <td>393</td>\n",
       "      <td>SQL</td>\n",
       "      <td>110</td>\n",
       "    </tr>\n",
       "    <tr>\n",
       "      <td>230</td>\n",
       "      <td>Java</td>\n",
       "      <td>66</td>\n",
       "    </tr>\n",
       "    <tr>\n",
       "      <td>254</td>\n",
       "      <td>Linux</td>\n",
       "      <td>59</td>\n",
       "    </tr>\n",
       "    <tr>\n",
       "      <td>563</td>\n",
       "      <td>Английский язык</td>\n",
       "      <td>57</td>\n",
       "    </tr>\n",
       "    <tr>\n",
       "      <td>178</td>\n",
       "      <td>Git</td>\n",
       "      <td>43</td>\n",
       "    </tr>\n",
       "    <tr>\n",
       "      <td>343</td>\n",
       "      <td>PostgreSQL</td>\n",
       "      <td>32</td>\n",
       "    </tr>\n",
       "    <tr>\n",
       "      <td>196</td>\n",
       "      <td>Hadoop</td>\n",
       "      <td>28</td>\n",
       "    </tr>\n",
       "    <tr>\n",
       "      <td>120</td>\n",
       "      <td>Data Mining</td>\n",
       "      <td>25</td>\n",
       "    </tr>\n",
       "    <tr>\n",
       "      <td>45</td>\n",
       "      <td>Atlassian Jira</td>\n",
       "      <td>25</td>\n",
       "    </tr>\n",
       "    <tr>\n",
       "      <td>420</td>\n",
       "      <td>Spark</td>\n",
       "      <td>24</td>\n",
       "    </tr>\n",
       "    <tr>\n",
       "      <td>68</td>\n",
       "      <td>C++</td>\n",
       "      <td>24</td>\n",
       "    </tr>\n",
       "    <tr>\n",
       "      <td>272</td>\n",
       "      <td>MS SQL</td>\n",
       "      <td>24</td>\n",
       "    </tr>\n",
       "    <tr>\n",
       "      <td>57</td>\n",
       "      <td>Big Data</td>\n",
       "      <td>23</td>\n",
       "    </tr>\n",
       "    <tr>\n",
       "      <td>387</td>\n",
       "      <td>SCALA</td>\n",
       "      <td>21</td>\n",
       "    </tr>\n",
       "    <tr>\n",
       "      <td>234</td>\n",
       "      <td>JavaScript</td>\n",
       "      <td>19</td>\n",
       "    </tr>\n",
       "    <tr>\n",
       "      <td>143</td>\n",
       "      <td>Docker</td>\n",
       "      <td>16</td>\n",
       "    </tr>\n",
       "    <tr>\n",
       "      <td>352</td>\n",
       "      <td>Project management</td>\n",
       "      <td>16</td>\n",
       "    </tr>\n",
       "    <tr>\n",
       "      <td>319</td>\n",
       "      <td>ORACLE</td>\n",
       "      <td>14</td>\n",
       "    </tr>\n",
       "    <tr>\n",
       "      <td>297</td>\n",
       "      <td>MongoDB</td>\n",
       "      <td>14</td>\n",
       "    </tr>\n",
       "  </tbody>\n",
       "</table>\n",
       "</div>"
      ],
      "text/plain": [
       "             skill_name  counts\n",
       "357              Python     132\n",
       "393                 SQL     110\n",
       "230                Java      66\n",
       "254               Linux      59\n",
       "563     Английский язык      57\n",
       "178                 Git      43\n",
       "343          PostgreSQL      32\n",
       "196              Hadoop      28\n",
       "120         Data Mining      25\n",
       "45       Atlassian Jira      25\n",
       "420               Spark      24\n",
       "68                  C++      24\n",
       "272              MS SQL      24\n",
       "57             Big Data      23\n",
       "387               SCALA      21\n",
       "234          JavaScript      19\n",
       "143              Docker      16\n",
       "352  Project management      16\n",
       "319              ORACLE      14\n",
       "297             MongoDB      14"
      ]
     },
     "execution_count": 78,
     "metadata": {},
     "output_type": "execute_result"
    }
   ],
   "source": [
    "skill_df.groupby('skill_name').size().reset_index(name='counts').sort_values(['counts'], ascending=False).head(20)"
   ]
  },
  {
   "cell_type": "code",
   "execution_count": 81,
   "metadata": {},
   "outputs": [
    {
     "name": "stdout",
     "output_type": "stream",
     "text": [
      "Языки программирования:\n",
      "Python: 132\n",
      "Java: 66\n",
      "Kotlin: 2\n",
      "C++: 24\n",
      "Оперционная системы:\n",
      "Linux: 59\n",
      "Технлогии:\n",
      "Docker: 16\n",
      "SQL: 110\n",
      "Git: 43\n"
     ]
    }
   ],
   "source": [
    "print(\"Языки программирования:\")\n",
    "print(\"Python: \" + str(len(skill_df.loc[skill_df['skill_name'] == \"Python\"])))\n",
    "print(\"Java: \" + str(len(skill_df.loc[skill_df['skill_name'] == \"Java\"])))\n",
    "print(\"Kotlin: \" + str(len(skill_df.loc[skill_df['skill_name'] == \"Kotlin\"])))\n",
    "print(\"C++: \" + str(len(skill_df.loc[skill_df['skill_name'] == \"C++\"])))\n",
    "print(\"Оперционная системы:\")\n",
    "print(\"Linux: \" + str(len(skill_df.loc[skill_df['skill_name'] == \"Linux\"])))\n",
    "print(\"Технлогии:\")\n",
    "print(\"Docker: \" + str(len(skill_df.loc[skill_df['skill_name'] == \"Docker\"])))\n",
    "print(\"SQL: \" + str(len(skill_df.loc[skill_df['skill_name'] == \"SQL\"])))\n",
    "print(\"Git: \" + str(len(skill_df.loc[skill_df['skill_name'] == \"Git\"])))"
   ]
  },
  {
   "cell_type": "markdown",
   "metadata": {},
   "source": [
    "3. Цели на обучение, акценты на интересующие темы и технологии"
   ]
  },
  {
   "cell_type": "markdown",
   "metadata": {},
   "source": [
    "На текущем месте работы занимаюсь разработкой новых медицинских диагностических устройств, есть потребность научиться грамотно сохранять данные измерений и их интерпритацию. "
   ]
  },
  {
   "cell_type": "code",
   "execution_count": null,
   "metadata": {},
   "outputs": [],
   "source": []
  }
 ],
 "metadata": {
  "colab": {
   "collapsed_sections": [],
   "name": "hh.ipynb",
   "provenance": []
  },
  "kernelspec": {
   "display_name": "Python 3",
   "language": "python",
   "name": "python3"
  },
  "language_info": {
   "codemirror_mode": {
    "name": "ipython",
    "version": 3
   },
   "file_extension": ".py",
   "mimetype": "text/x-python",
   "name": "python",
   "nbconvert_exporter": "python",
   "pygments_lexer": "ipython3",
   "version": "3.7.4"
  },
  "pycharm": {
   "stem_cell": {
    "cell_type": "raw",
    "metadata": {
     "collapsed": false
    },
    "source": []
   }
  }
 },
 "nbformat": 4,
 "nbformat_minor": 4
}
